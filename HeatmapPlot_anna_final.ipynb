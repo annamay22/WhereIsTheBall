{
 "cells": [
  {
   "cell_type": "markdown",
   "metadata": {},
   "source": [
    "# Plotting"
   ]
  },
  {
   "cell_type": "code",
   "execution_count": 2,
   "metadata": {},
   "outputs": [],
   "source": [
    "import numpy as np\n",
    "import os\n",
    "import json\n",
    "import datetime\n",
    "import matplotlib.pyplot as pl\n",
    "import pandas as pd\n",
    "\n",
    "%matplotlib inline"
   ]
  },
  {
   "cell_type": "code",
   "execution_count": 11,
   "metadata": {},
   "outputs": [],
   "source": [
    "#optional\n",
    "def custom_div_cmap(numcolors=50, name='custom_div_cmap',\n",
    "                    mincol='green', maxcol='red'):\n",
    "    \"\"\" Create a custom diverging colormap with three colors\n",
    "    \n",
    "    Default is blue to white to red with 11 colors.  Colors can be specified\n",
    "    in any way understandable by matplotlib.colors.ColorConverter.to_rgb()\n",
    "    Source: http://pyhogs.github.io/colormap-examples.html\n",
    "    \"\"\"\n",
    "\n",
    "    from matplotlib.colors import LinearSegmentedColormap \n",
    "    \n",
    "    cmap = LinearSegmentedColormap.from_list(name=name, \n",
    "                                             colors =[mincol, maxcol],\n",
    "                                             N=numcolors)\n",
    "    return cmap \n",
    "\n",
    "custom_map = custom_div_cmap(50, mincol = \"#2ca02c\", maxcol =\"#7c0a02\")"
   ]
  },
  {
   "cell_type": "markdown",
   "metadata": {},
   "source": [
    "# New version"
   ]
  },
  {
   "cell_type": "code",
   "execution_count": 3,
   "metadata": {},
   "outputs": [],
   "source": [
    "#Data processing\n",
    "\n",
    "with open(\"../sortedevents.json\",\"r\") as myfile:\n",
    "    allevents = json.load(myfile)\n",
    "    \n",
    "df = pd.DataFrame([list(allevents[i].values()) for i in range(0,len(allevents))],\n",
    "                 columns = ['team', 'x', 'y', 'type', 'outcome', 'minute', 'second', 'nr']).sort_values(by = ['nr',\n",
    "                                                                                                              'minute',\n",
    "                                                                                                             'second'])\n",
    "df['timestamp'] = df['minute'] * 60 + df['second']\n",
    "df_array = df[['x','y','nr','timestamp']].values"
   ]
  },
  {
   "cell_type": "code",
   "execution_count": 13,
   "metadata": {},
   "outputs": [],
   "source": [
    "#Functions (first two: Endre)\n",
    "def filter_sorted(arr,val,col):\n",
    "    \"\"\"arr: 2-D array, with column col sorted ascending\n",
    "    val: value to filter for\n",
    "    col: column number of 2-D array that is sorted and we look for vals in.\n",
    "    returns 2-D array where all elements in column col are val\n",
    "    \"\"\"\n",
    "    return arr[np.searchsorted(arr[:,col],val,side='left'):np.searchsorted(arr[:,col],val,side='right'),:]\n",
    "\n",
    "def filter_interval_sorted(arr,interval,col):\n",
    "    \"\"\"arr: 2-D array, with column col sorted ascending\n",
    "    interval: array of 2 values, ascending\n",
    "    col: column number of 2-D array that is sorted.\n",
    "    returns 2-D array where all elements in column col are at least interval[0] and at most interval[1]\n",
    "    \"\"\"\n",
    "    return arr[np.searchsorted(arr[:,col],interval[0],side='left'):np.searchsorted(arr[:,col],interval[1],side='right'),:]\n",
    "\n",
    "def get_coordinates(array, n, interval):\n",
    "    \"\"\"array: 2 dimensional numpy array, size = 4, ['x','y','n','timestamp']\n",
    "    n: int, interval: 2-dim numpy array, size = 2\n",
    "    \"\"\"\n",
    "    filtered = filter_interval_sorted(filter_sorted(array, n, 2),\n",
    "                                      interval,\n",
    "                                      3)\n",
    "    return(filtered[:, 0],filtered[:, 1])\n",
    "\n",
    "def plotCoord(xcoord,ycoord,nbins = 30,colormap = pl.cm.BuGn_r):\n",
    "    \"\"\"plot everything\n",
    "    \"\"\"\n",
    "    pl.hist2d(xcoord, ycoord, bins = nbins,cmap = colormap)\n",
    "    pl.title(\"Heatmap\")\n",
    "    pl.colorbar()\n",
    "    pl.show()"
   ]
  },
  {
   "cell_type": "code",
   "execution_count": 14,
   "metadata": {},
   "outputs": [],
   "source": [
    "def WhereWasTheBall(n,timeinterval = np.array([0,7324])):\n",
    "    x,y = get_coordinates(df_array, n, timeinterval)\n",
    "    plotCoord(x,y)"
   ]
  },
  {
   "cell_type": "code",
   "execution_count": 9,
   "metadata": {},
   "outputs": [
    {
     "data": {
      "image/png": "[encoded data removed]",
      "text/plain": [
       "<matplotlib.figure.Figure at 0x7f02982e05f8>"
      ]
     },
     "metadata": {},
     "output_type": "display_data"
    }
   ],
   "source": [
    "WhereWasTheBall(1)"
   ]
  },
  {
   "cell_type": "code",
   "execution_count": null,
   "metadata": {},
   "outputs": [],
   "source": [
    "%timeit WhereWasTheBall(1)"
   ]
  }
 ],
 "metadata": {
  "kernelspec": {
   "display_name": "Python 3",
   "language": "python",
   "name": "python3"
  },
  "language_info": {
   "codemirror_mode": {
    "name": "ipython",
    "version": 3
   },
   "file_extension": ".py",
   "mimetype": "text/x-python",
   "name": "python",
   "nbconvert_exporter": "python",
   "pygments_lexer": "ipython3",
   "version": "3.6.4"
  }
 },
 "nbformat": 4,
 "nbformat_minor": 2
}
